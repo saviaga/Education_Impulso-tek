{
 "cells": [
  {
   "cell_type": "code",
   "execution_count": 1,
   "metadata": {},
   "outputs": [],
   "source": [
    "import pandas as pd\n",
    "import random\n",
    "import numpy as np"
   ]
  },
  {
   "cell_type": "code",
   "execution_count": 2,
   "metadata": {},
   "outputs": [],
   "source": [
    "PATH = \"../Impulso-tek/year_data\""
   ]
  },
  {
   "cell_type": "code",
   "execution_count": 18,
   "metadata": {},
   "outputs": [],
   "source": [
    "def clean_int(s) -> int:\n",
    "    \"\"\"\n",
    "    Clean integer value\n",
    "    \"\"\"\n",
    "    if isinstance(s, str):\n",
    "        s = s.strip()\n",
    "        if s == \"\":\n",
    "            return None\n",
    "        else:\n",
    "            return int(s)\n",
    "    else:\n",
    "        return s\n",
    "\n",
    "\n",
    "def get_grade(df: pd.DataFrame, grade: str) -> pd.DataFrame:\n",
    "    \"\"\"\n",
    "    Function that filters original data frame accordingly to the grade filter\n",
    "    defined by the specific conditions\n",
    "    \"\"\"\n",
    "    df_new = pd.DataFrame()\n",
    "\n",
    "    if grade == \"8th\":\n",
    "        df_new = df[\n",
    "            (\n",
    "                  ((df[\"cod_ense\"] == 110) & (df[\"cod_grado\"].isin([1, 2, 3, 4, 5, 6, 7, 8])))\n",
    "                | ((df[\"cod_ense\"] == 160) & (df[\"cod_grado\"].isin([1, 2, 3, 4, 5, 6, 7, 8])))\n",
    "                | ((df[\"cod_ense\"] == 161) & (df[\"cod_grado\"].isin([2, 3, 4])))\n",
    "                | ((df[\"cod_ense\"] == 163) & (df[\"cod_grado\"].isin([2, 3, 4])))\n",
    "                | ((df[\"cod_ense\"] == 165) & (df[\"cod_grado\"].isin([1, 2, 3])))\n",
    "                | ((df[\"cod_ense\"] == 167) & (df[\"cod_grado\"].isin([2, 3])))\n",
    "            )\n",
    "        ].copy()\n",
    "\n",
    "    if grade == \"9th\":\n",
    "        df_new = df[\n",
    "            (\n",
    "                (df[\"cod_ense\"].isin(\n",
    "                        [310, 360, 361, 363, 410, 460, 463, 510, 560, 561, 563, 610,\n",
    "                         661, 663, 710, 760, 761, 763, 810, 860, 861, 863, 910]))\n",
    "                & (df[\"cod_grado\"] == 1)\n",
    "            )\n",
    "        ].copy()\n",
    "\n",
    "    if grade == \"10th\":\n",
    "        df_new = df[\n",
    "            (\n",
    "                (df[\"cod_ense\"].isin([310, 360, 410, 510, 610, 710, 810, 910]))\n",
    "                & (df[\"cod_grado\"] == 2)\n",
    "            )\n",
    "        ].copy()\n",
    "\n",
    "    if grade == \"11th\":\n",
    "        df_new = df[\n",
    "            (\n",
    "                (df[\"cod_ense\"].isin(\n",
    "                        [310, 360, 361, 363, 410, 460, 463, 510, 560, 561, 563, 610,\n",
    "                         661, 663, 710, 760, 761, 763, 810, 860, 861, 863, 910]))\n",
    "                & (df[\"cod_grado\"] == 3)\n",
    "            )\n",
    "        ].copy()\n",
    "\n",
    "    if grade == \"12th\":\n",
    "        df_new = df[\n",
    "            (\n",
    "                (df[\"cod_ense\"].isin(\n",
    "                        [310, 360, 410, 463, 510, 563, 610, 663, 710, 763, 810, 910]))\n",
    "                & (df[\"cod_grado\"] == 4)\n",
    "            )\n",
    "        ].copy()\n",
    "    return df_new\n",
    "\n",
    "\n",
    "def read_data(\n",
    "    agno: str,\n",
    "    source: str,\n",
    "    sep: str = \",\",\n",
    "    cols: str = None,\n",
    "    grade: str = \"8th\",\n",
    "    approved: bool = False,\n",
    ") -> pd.DataFrame:\n",
    "    \"\"\"\n",
    "    Reads csv of the form \"{PATH}/{source}_{agno}.csv\", filters columns, grades and approved \n",
    "    if specified. Returns a DataFrame with mrun identifier clean\n",
    "    \"\"\"\n",
    "    # Read data\n",
    "    df = pd.read_csv(f\"{PATH}/{source}_{agno}.csv\", sep=sep)\n",
    "    print(f\"All data in year {agno}:\", df.shape[0])\n",
    "    cols = cols or df.columns\n",
    "\n",
    "    # Filters grade\n",
    "    if grade:\n",
    "        df = get_grade(df, grade)\n",
    "        print(f\"All data in year {agno} and grade {grade}:\", df.shape[0])\n",
    "\n",
    "    # Filter approved\n",
    "    if approved:\n",
    "        df = df[df[\"sit_fin\"] == \"P\"]\n",
    "        print(f\"All data in year {agno} and grade {grade} that approved:\", df.shape[0])\n",
    "\n",
    "    # clean mrun column and removing none values\n",
    "    df[\"mrun\"] = df[\"mrun\"].map(clean_int)\n",
    "    df = df[df[\"mrun\"].notnull()]\n",
    "    df[\"mrun\"] = df[\"mrun\"].astype(int)\n",
    "    print(\"Valid MRUN rows: \", df.shape[0])\n",
    "\n",
    "    return df[cols]\n",
    "\n",
    "\n",
    "def get_HE_data(year: int, cols: list, filter_values: dict = dict()) -> pd.DataFrame:\n",
    "    \"\"\"\n",
    "    Reads High Education tables and filters based on filter_value dict\n",
    "    Note: filter_values only supports one length dictionary\n",
    "    \"\"\"\n",
    "    # Append filter column if not included\n",
    "    if (len(cols) > 0) & (len(filter_values) == 1):\n",
    "        cols = cols.append(list(filter_values.keys())[0])\n",
    "\n",
    "    # Reads Matricula Ed Superior File\n",
    "    he = read_data(\n",
    "        year, \"Matricula_Ed_Superior\", sep=\";\", cols=cols, grade=None, approved=None\n",
    "    )\n",
    "    # Appends year and enrolled dummy variable\n",
    "    he[\"he_agno\"] = year\n",
    "    he[\"he_enrolled\"] = 1\n",
    "\n",
    "    # Removes duplicates\n",
    "    he = he.drop_duplicates(subset=[\"mrun\"])\n",
    "    # Filters data if filter_values (length 1) is specified\n",
    "    if len(filter_values) == 1:\n",
    "        he = he[he[list(filter_values.keys())[0]] == list(filter_values.values())[0]]\n",
    "        print(\n",
    "            f\"Total data for year {year} and {list(filter_values.keys())[0]} {list(filter_values.values())[0]}:\",\n",
    "            he.shape[0],\n",
    "        )\n",
    "    return he\n",
    "\n",
    "\n",
    "def get_statistics(baseline: pd.DataFrame, he: pd.DataFrame) -> pd.DataFrame:\n",
    "    \"\"\"\n",
    "    Calculates the % and total number of students on baseline that appear on he.\n",
    "    Returns a DataFrame by school with counts, enrolled counts and enrolled percentages.\n",
    "    \"\"\"\n",
    "    join = baseline.merge(he, on=\"mrun\", how=\"left\")\n",
    "    values = {\"he_enrolled\": 0}\n",
    "    join.fillna(value=values, inplace=True)\n",
    "    print(\"Baseline\",baseline.head())\n",
    "    print(\"he\", he.head())\n",
    "    print(join)\n",
    "    res = join.pivot_table(\n",
    "        index=\"rbd\", aggfunc={\"he_enrolled\": [np.sum, np.mean, len]}\n",
    "    ).reset_index()\n",
    "    res.columns = [\"rbd\", \"8th\", \"he_enrolled_%\", \"he_enrolled\"]\n",
    "    print(res[\"he_enrolled_%\"].describe())\n",
    "    return res"
   ]
  },
  {
   "cell_type": "markdown",
   "metadata": {},
   "source": [
    "## Read baseline"
   ]
  },
  {
   "cell_type": "code",
   "execution_count": 19,
   "metadata": {},
   "outputs": [],
   "source": [
    "t = 2011\n",
    "path = \"../Impulso-tek/year_data\"\n",
    "source = \"Rendimiento\""
   ]
  },
  {
   "cell_type": "code",
   "execution_count": 20,
   "metadata": {},
   "outputs": [
    {
     "name": "stdout",
     "output_type": "stream",
     "text": [
      "All data in year 2011: 3326746\n",
      "All data in year 2011 and grade 8th: 2137053\n",
      "All data in year 2011 and grade 8th that approved: 1904289\n",
      "Valid MRUN rows:  1904289\n"
     ]
    }
   ],
   "source": [
    "cols = [\"agno\", \"mrun\", \"rbd\", \"nom_reg_rbd_a\"]\n",
    "baseline = read_data(t, source, cols=cols, grade=\"8th\", approved=True)"
   ]
  },
  {
   "cell_type": "code",
   "execution_count": 21,
   "metadata": {},
   "outputs": [
    {
     "data": {
      "text/plain": [
       "(1904289, 4)"
      ]
     },
     "execution_count": 21,
     "metadata": {},
     "output_type": "execute_result"
    }
   ],
   "source": [
    "baseline.shape"
   ]
  },
  {
   "cell_type": "code",
   "execution_count": 22,
   "metadata": {},
   "outputs": [
    {
     "data": {
      "text/html": [
       "<div>\n",
       "<style scoped>\n",
       "    .dataframe tbody tr th:only-of-type {\n",
       "        vertical-align: middle;\n",
       "    }\n",
       "\n",
       "    .dataframe tbody tr th {\n",
       "        vertical-align: top;\n",
       "    }\n",
       "\n",
       "    .dataframe thead th {\n",
       "        text-align: right;\n",
       "    }\n",
       "</style>\n",
       "<table border=\"1\" class=\"dataframe\">\n",
       "  <thead>\n",
       "    <tr style=\"text-align: right;\">\n",
       "      <th></th>\n",
       "      <th>agno</th>\n",
       "      <th>mrun</th>\n",
       "      <th>rbd</th>\n",
       "      <th>nom_reg_rbd_a</th>\n",
       "    </tr>\n",
       "  </thead>\n",
       "  <tbody>\n",
       "    <tr>\n",
       "      <th>1819</th>\n",
       "      <td>2011</td>\n",
       "      <td>155212</td>\n",
       "      <td>3</td>\n",
       "      <td>NaN</td>\n",
       "    </tr>\n",
       "    <tr>\n",
       "      <th>1820</th>\n",
       "      <td>2011</td>\n",
       "      <td>174207</td>\n",
       "      <td>3</td>\n",
       "      <td>NaN</td>\n",
       "    </tr>\n",
       "    <tr>\n",
       "      <th>1821</th>\n",
       "      <td>2011</td>\n",
       "      <td>699709</td>\n",
       "      <td>3</td>\n",
       "      <td>NaN</td>\n",
       "    </tr>\n",
       "    <tr>\n",
       "      <th>1827</th>\n",
       "      <td>2011</td>\n",
       "      <td>1302116</td>\n",
       "      <td>3</td>\n",
       "      <td>NaN</td>\n",
       "    </tr>\n",
       "    <tr>\n",
       "      <th>1829</th>\n",
       "      <td>2011</td>\n",
       "      <td>1472368</td>\n",
       "      <td>3</td>\n",
       "      <td>NaN</td>\n",
       "    </tr>\n",
       "  </tbody>\n",
       "</table>\n",
       "</div>"
      ],
      "text/plain": [
       "      agno     mrun  rbd  nom_reg_rbd_a\n",
       "1819  2011   155212    3            NaN\n",
       "1820  2011   174207    3            NaN\n",
       "1821  2011   699709    3            NaN\n",
       "1827  2011  1302116    3            NaN\n",
       "1829  2011  1472368    3            NaN"
      ]
     },
     "execution_count": 22,
     "metadata": {},
     "output_type": "execute_result"
    }
   ],
   "source": [
    "baseline.head()"
   ]
  },
  {
   "cell_type": "code",
   "execution_count": 23,
   "metadata": {},
   "outputs": [
    {
     "data": {
      "text/plain": [
       "9012"
      ]
     },
     "execution_count": 23,
     "metadata": {},
     "output_type": "execute_result"
    }
   ],
   "source": [
    "baseline['rbd'].nunique()"
   ]
  },
  {
   "cell_type": "markdown",
   "metadata": {},
   "source": [
    "# Ex-Post"
   ]
  },
  {
   "cell_type": "markdown",
   "metadata": {},
   "source": [
    "## 1. First year enrollment rate\n",
    "Number of students enrolled in a  Higher Ed. Institution (HEI) right after graduated (t+5) / number of students from the 8th graduated cohort (t)\n",
    "% students enrolled in Higher Education (ME) right after graduation (t+5) \n"
   ]
  },
  {
   "cell_type": "code",
   "execution_count": 24,
   "metadata": {},
   "outputs": [
    {
     "name": "stderr",
     "output_type": "stream",
     "text": [
      "C:\\Users\\paperspace\\anaconda3\\lib\\site-packages\\IPython\\core\\interactiveshell.py:3343: DtypeWarning: Columns (2,5) have mixed types.Specify dtype option on import or set low_memory=False.\n",
      "  exec(code_obj, self.user_global_ns, self.user_ns)\n"
     ]
    },
    {
     "name": "stdout",
     "output_type": "stream",
     "text": [
      "All data in year 2016: 1247178\n",
      "Valid MRUN rows:  1245695\n",
      "      mrun     codigo_unico  he_agno  he_enrolled\n",
      "1483     5  I260S47C118J1V1     2016            1\n",
      "1484    37   I498S6C132J2V1     2016            1\n",
      "1485    42     I26S1C32J1V1     2016            1\n",
      "1486    80     I45S2C33J1V1     2016            1\n",
      "1487   107  I111S12C104J1V1     2016            1\n"
     ]
    }
   ],
   "source": [
    "# Read Higher Ed. Insititution (HEI) right after graduated (t+5)\n",
    "cols = [\"mrun\", \"codigo_unico\"]\n",
    "he = get_HE_data(t+5, cols)\n",
    "print(he.head())"
   ]
  },
  {
   "cell_type": "code",
   "execution_count": 25,
   "metadata": {},
   "outputs": [
    {
     "name": "stdout",
     "output_type": "stream",
     "text": [
      "Baseline       agno     mrun  rbd  nom_reg_rbd_a\n",
      "1819  2011   155212    3            NaN\n",
      "1820  2011   174207    3            NaN\n",
      "1821  2011   699709    3            NaN\n",
      "1827  2011  1302116    3            NaN\n",
      "1829  2011  1472368    3            NaN\n",
      "he       mrun     codigo_unico  he_agno  he_enrolled\n",
      "1483     5  I260S47C118J1V1     2016            1\n",
      "1484    37   I498S6C132J2V1     2016            1\n",
      "1485    42     I26S1C32J1V1     2016            1\n",
      "1486    80     I45S2C33J1V1     2016            1\n",
      "1487   107  I111S12C104J1V1     2016            1\n",
      "         agno      mrun    rbd  nom_reg_rbd_a   codigo_unico  he_agno  \\\n",
      "0        2011    155212      3            NaN            NaN      NaN   \n",
      "1        2011    174207      3            NaN            NaN      NaN   \n",
      "2        2011    699709      3            NaN            NaN      NaN   \n",
      "3        2011   1302116      3            NaN            NaN      NaN   \n",
      "4        2011   1472368      3            NaN            NaN      NaN   \n",
      "...       ...       ...    ...            ...            ...      ...   \n",
      "1904284  2011  19087067  40436            NaN            NaN      NaN   \n",
      "1904285  2011  21114433  40436            NaN  I111S4C89J1V1   2016.0   \n",
      "1904286  2011  22848846  40436            NaN            NaN      NaN   \n",
      "1904287  2011  23219435  40436            NaN            NaN      NaN   \n",
      "1904288  2011  24409182  40436            NaN  I111S4C11J1V1   2016.0   \n",
      "\n",
      "         he_enrolled  \n",
      "0                0.0  \n",
      "1                0.0  \n",
      "2                0.0  \n",
      "3                0.0  \n",
      "4                0.0  \n",
      "...              ...  \n",
      "1904284          0.0  \n",
      "1904285          1.0  \n",
      "1904286          0.0  \n",
      "1904287          0.0  \n",
      "1904288          1.0  \n",
      "\n",
      "[1904289 rows x 7 columns]\n",
      "count    9012.000000\n",
      "mean        0.035802\n",
      "std         0.046304\n",
      "min         0.000000\n",
      "25%         0.000000\n",
      "50%         0.029182\n",
      "75%         0.053830\n",
      "max         1.000000\n",
      "Name: he_enrolled_%, dtype: float64\n"
     ]
    }
   ],
   "source": [
    "exp1 = get_statistics(baseline, he)\n"
   ]
  },
  {
   "cell_type": "markdown",
   "metadata": {},
   "source": [
    "## 2. First and second year enrollment rate\n",
    "\n",
    "Number of students enrolled in a  HEI at first or second year after graduation (combined) / number of students from the 8th graduated cohort (t)"
   ]
  },
  {
   "cell_type": "code",
   "execution_count": 18,
   "metadata": {},
   "outputs": [
    {
     "name": "stdout",
     "output_type": "stream",
     "text": [
      "All data in year 2016: 1247178\n",
      "Valid MRUN rows:  1245695\n"
     ]
    },
    {
     "name": "stderr",
     "output_type": "stream",
     "text": [
      "C:\\Users\\paperspace\\anaconda3\\lib\\site-packages\\IPython\\core\\interactiveshell.py:3343: DtypeWarning: Columns (2,5,37,38) have mixed types.Specify dtype option on import or set low_memory=False.\n",
      "  exec(code_obj, self.user_global_ns, self.user_ns)\n"
     ]
    },
    {
     "name": "stdout",
     "output_type": "stream",
     "text": [
      "All data in year 2017: 1247746\n",
      "Valid MRUN rows:  1245985\n"
     ]
    }
   ],
   "source": [
    "# Read Higher Ed. Insititution (HEI) right after graduated (t+5)\n",
    "cols = [\"mrun\", \"codigo_unico\"]\n",
    "h5 = get_HE_data(t+5, cols)\n",
    "h6 = get_HE_data(t+6, cols)\n",
    "# Conact t+5 and t+6\n",
    "he = pd.concat([h5,h6], axis=0).drop_duplicates(subset=[\"mrun\"])"
   ]
  },
  {
   "cell_type": "code",
   "execution_count": 19,
   "metadata": {},
   "outputs": [
    {
     "name": "stdout",
     "output_type": "stream",
     "text": [
      "count    9012.000000\n",
      "mean        0.088253\n",
      "std         0.096588\n",
      "min         0.000000\n",
      "25%         0.000000\n",
      "50%         0.081967\n",
      "75%         0.134146\n",
      "max         1.000000\n",
      "Name: he_enrolled_%, dtype: float64\n"
     ]
    }
   ],
   "source": [
    "exp2 = get_statistics(baseline, he)"
   ]
  },
  {
   "cell_type": "markdown",
   "metadata": {},
   "source": [
    "## 3. First, second and third year enrollment rate\n",
    "\n",
    "Number of students enrolled in a  HEI at first, second or third year after graduation (combined) / number of students from the 8th graduated cohort (t)"
   ]
  },
  {
   "cell_type": "code",
   "execution_count": 20,
   "metadata": {},
   "outputs": [
    {
     "name": "stdout",
     "output_type": "stream",
     "text": [
      "All data in year 2016: 1247178\n",
      "Valid MRUN rows:  1245695\n",
      "All data in year 2017: 1247746\n",
      "Valid MRUN rows:  1245985\n",
      "All data in year 2018: 1262771\n",
      "Valid MRUN rows:  1261750\n"
     ]
    }
   ],
   "source": [
    "cols = [\"mrun\", \"codigo_unico\"]\n",
    "h5 = get_HE_data(t+5, cols)\n",
    "h6 = get_HE_data(t+6, cols)\n",
    "h7 = get_HE_data(t+7, cols)\n",
    "# Conact t+5 and t+6\n",
    "he = pd.concat([h5,h6, h7], axis=0).drop_duplicates(subset=[\"mrun\"])"
   ]
  },
  {
   "cell_type": "code",
   "execution_count": 21,
   "metadata": {},
   "outputs": [
    {
     "name": "stdout",
     "output_type": "stream",
     "text": [
      "count    9012.000000\n",
      "mean        0.154854\n",
      "std         0.128653\n",
      "min         0.000000\n",
      "25%         0.058824\n",
      "50%         0.152637\n",
      "75%         0.225405\n",
      "max         1.000000\n",
      "Name: he_enrolled_%, dtype: float64\n"
     ]
    }
   ],
   "source": [
    "exp3 = get_statistics(baseline, he)"
   ]
  },
  {
   "cell_type": "markdown",
   "metadata": {},
   "source": [
    "## 4. Enrollment in TNS program rate\n",
    "\n",
    "Number of students enrolled in a  TNS (tecnico nivel superior) program (4-5 semesters)  / number of students from the 8th graduated cohort (t)\n"
   ]
  },
  {
   "cell_type": "code",
   "execution_count": 22,
   "metadata": {},
   "outputs": [
    {
     "name": "stdout",
     "output_type": "stream",
     "text": [
      "All data in year 2016: 1247178\n",
      "Valid MRUN rows:  1245695\n",
      "Total data for year 2016 and nivel_carrera_1 Técnico de Nivel Superior: 358375\n"
     ]
    }
   ],
   "source": [
    "filter_values = {\"nivel_carrera_1\": \"Técnico de Nivel Superior\"}\n",
    "cols = [\"mrun\", \"codigo_unico\", \"nivel_carrera_1\"]\n",
    "he = get_HE_data(t+5, cols, filter_values=filter_values)"
   ]
  },
  {
   "cell_type": "code",
   "execution_count": 23,
   "metadata": {},
   "outputs": [
    {
     "name": "stdout",
     "output_type": "stream",
     "text": [
      "count    9012.000000\n",
      "mean        0.013533\n",
      "std         0.021794\n",
      "min         0.000000\n",
      "25%         0.000000\n",
      "50%         0.007866\n",
      "75%         0.020137\n",
      "max         0.428571\n",
      "Name: he_enrolled_%, dtype: float64\n"
     ]
    }
   ],
   "source": [
    "exp4 = get_statistics(baseline, he)"
   ]
  },
  {
   "cell_type": "markdown",
   "metadata": {},
   "source": [
    "## 5. Enrollment in a PSL program  rate\n",
    "Number of students enrolled in a  PSL (professional sin licenciatura) program (8-9 semesters)  / number of students from the 8th graduated cohort (t)"
   ]
  },
  {
   "cell_type": "code",
   "execution_count": 24,
   "metadata": {},
   "outputs": [
    {
     "name": "stdout",
     "output_type": "stream",
     "text": [
      "All data in year 2016: 1247178\n",
      "Valid MRUN rows:  1245695\n",
      "Total data for year 2016 and nivel_carrera_1 Profesional Sin Licenciatura: 221658\n"
     ]
    }
   ],
   "source": [
    "filter_values = {\"nivel_carrera_1\": \"Profesional Sin Licenciatura\"}\n",
    "cols = [\"mrun\", \"codigo_unico\", \"nivel_carrera_1\"]\n",
    "he = get_HE_data(t+5, cols, filter_values=filter_values)"
   ]
  },
  {
   "cell_type": "code",
   "execution_count": 25,
   "metadata": {},
   "outputs": [
    {
     "name": "stdout",
     "output_type": "stream",
     "text": [
      "count    9012.000000\n",
      "mean        0.003888\n",
      "std         0.007757\n",
      "min         0.000000\n",
      "25%         0.000000\n",
      "50%         0.000000\n",
      "75%         0.005917\n",
      "max         0.142857\n",
      "Name: he_enrolled_%, dtype: float64\n"
     ]
    }
   ],
   "source": [
    "exp5 = get_statistics(baseline, he)"
   ]
  },
  {
   "cell_type": "markdown",
   "metadata": {},
   "source": [
    "## 6.  Enrollment in a PCL (professional con licenciatura) program  rate\n",
    "Number of students enrolled in a  PCL program (10-12  semesters)  / number of students from the 8th graduated cohort (t)"
   ]
  },
  {
   "cell_type": "code",
   "execution_count": 26,
   "metadata": {},
   "outputs": [
    {
     "name": "stdout",
     "output_type": "stream",
     "text": [
      "All data in year 2016: 1247178\n",
      "Valid MRUN rows:  1245695\n",
      "Total data for year 2016 and nivel_carrera_1 Profesional Con Licenciatura: 572163\n"
     ]
    }
   ],
   "source": [
    "filter_values = {\"nivel_carrera_1\": \"Profesional Con Licenciatura\"}\n",
    "cols = [\"mrun\", \"codigo_unico\", \"nivel_carrera_1\"]\n",
    "he = get_HE_data(t+5, cols, filter_values=filter_values)"
   ]
  },
  {
   "cell_type": "code",
   "execution_count": 27,
   "metadata": {},
   "outputs": [
    {
     "name": "stdout",
     "output_type": "stream",
     "text": [
      "count    9012.000000\n",
      "mean        0.017082\n",
      "std         0.031075\n",
      "min         0.000000\n",
      "25%         0.000000\n",
      "50%         0.006289\n",
      "75%         0.023479\n",
      "max         1.000000\n",
      "Name: he_enrolled_%, dtype: float64\n"
     ]
    }
   ],
   "source": [
    "exp6 = get_statistics(baseline, he)"
   ]
  },
  {
   "cell_type": "markdown",
   "metadata": {},
   "source": [
    "## 7. Enrollment in a program during day rate\n",
    "Number of students enrolled in a  day (diurno) program/ number of students from the 8th graduated cohort (t)"
   ]
  },
  {
   "cell_type": "code",
   "execution_count": 28,
   "metadata": {},
   "outputs": [
    {
     "name": "stdout",
     "output_type": "stream",
     "text": [
      "All data in year 2016: 1247178\n",
      "Valid MRUN rows:  1245695\n",
      "Total data for year 2016 and jornada Diurno: 853541\n"
     ]
    }
   ],
   "source": [
    "filter_values =  {\"jornada\": \"Diurno\"}\n",
    "cols = [\"mrun\", \"codigo_unico\", \"jornada\"]\n",
    "he = get_HE_data(t+5, cols, filter_values)"
   ]
  },
  {
   "cell_type": "code",
   "execution_count": 29,
   "metadata": {},
   "outputs": [
    {
     "name": "stdout",
     "output_type": "stream",
     "text": [
      "count    9012.000000\n",
      "mean        0.031926\n",
      "std         0.043173\n",
      "min         0.000000\n",
      "25%         0.000000\n",
      "50%         0.023810\n",
      "75%         0.048387\n",
      "max         1.000000\n",
      "Name: he_enrolled_%, dtype: float64\n"
     ]
    }
   ],
   "source": [
    "exp7 = get_statistics(baseline, he)"
   ]
  },
  {
   "cell_type": "markdown",
   "metadata": {},
   "source": [
    "## 8. Enrollment in a evening program rate\n",
    "Number of students enrolled in a  evening (vespertino) program / number of students from the 8th graduated cohort (t)"
   ]
  },
  {
   "cell_type": "code",
   "execution_count": 30,
   "metadata": {},
   "outputs": [
    {
     "name": "stdout",
     "output_type": "stream",
     "text": [
      "All data in year 2016: 1247178\n",
      "Valid MRUN rows:  1245695\n",
      "Total data for year 2016 and jornada Vespertino: 326185\n"
     ]
    }
   ],
   "source": [
    "filter_values =  {\"jornada\": \"Vespertino\"}\n",
    "cols = [\"mrun\", \"codigo_unico\", \"jornada\"]\n",
    "he = get_HE_data(t+5, cols, filter_values)"
   ]
  },
  {
   "cell_type": "code",
   "execution_count": 31,
   "metadata": {},
   "outputs": [
    {
     "name": "stdout",
     "output_type": "stream",
     "text": [
      "count    9012.000000\n",
      "mean        0.003810\n",
      "std         0.009582\n",
      "min         0.000000\n",
      "25%         0.000000\n",
      "50%         0.000000\n",
      "75%         0.004819\n",
      "max         0.250000\n",
      "Name: he_enrolled_%, dtype: float64\n"
     ]
    }
   ],
   "source": [
    "exp8 = get_statistics(baseline, he)"
   ]
  },
  {
   "cell_type": "markdown",
   "metadata": {},
   "source": [
    "## 9. Enrollment in accredited programs rate\n",
    "Number of students enrolled in programs which has been accredited/number of students from the 8th graduated cohort (t)"
   ]
  },
  {
   "cell_type": "code",
   "execution_count": 32,
   "metadata": {},
   "outputs": [
    {
     "name": "stdout",
     "output_type": "stream",
     "text": [
      "All data in year 2016: 1247178\n",
      "Valid MRUN rows:  1245695\n",
      "Total data for year 2016 and acreditada_carr ACREDITADA: 698372\n"
     ]
    }
   ],
   "source": [
    "filter_values =  {\"acreditada_carr\": \"ACREDITADA\"}\n",
    "cols = [\"mrun\", \"codigo_unico\", \"acreditada_carr\"]\n",
    "he = get_HE_data(t+5, cols, filter_values=filter_values)"
   ]
  },
  {
   "cell_type": "code",
   "execution_count": 33,
   "metadata": {},
   "outputs": [
    {
     "name": "stdout",
     "output_type": "stream",
     "text": [
      "count    9012.000000\n",
      "mean        0.021532\n",
      "std         0.031412\n",
      "min         0.000000\n",
      "25%         0.000000\n",
      "50%         0.015135\n",
      "75%         0.033333\n",
      "max         1.000000\n",
      "Name: he_enrolled_%, dtype: float64\n"
     ]
    }
   ],
   "source": [
    "exp9 = get_statistics(baseline, he)"
   ]
  },
  {
   "cell_type": "code",
   "execution_count": 34,
   "metadata": {},
   "outputs": [
    {
     "data": {
      "text/html": [
       "<div>\n",
       "<style scoped>\n",
       "    .dataframe tbody tr th:only-of-type {\n",
       "        vertical-align: middle;\n",
       "    }\n",
       "\n",
       "    .dataframe tbody tr th {\n",
       "        vertical-align: top;\n",
       "    }\n",
       "\n",
       "    .dataframe thead th {\n",
       "        text-align: right;\n",
       "    }\n",
       "</style>\n",
       "<table border=\"1\" class=\"dataframe\">\n",
       "  <thead>\n",
       "    <tr style=\"text-align: right;\">\n",
       "      <th></th>\n",
       "      <th>rbd</th>\n",
       "      <th>8th</th>\n",
       "      <th>he_enrolled_%</th>\n",
       "      <th>he_enrolled</th>\n",
       "    </tr>\n",
       "  </thead>\n",
       "  <tbody>\n",
       "    <tr>\n",
       "      <th>0</th>\n",
       "      <td>3</td>\n",
       "      <td>485.0</td>\n",
       "      <td>0.000000</td>\n",
       "      <td>0.0</td>\n",
       "    </tr>\n",
       "    <tr>\n",
       "      <th>1</th>\n",
       "      <td>5</td>\n",
       "      <td>273.0</td>\n",
       "      <td>0.054945</td>\n",
       "      <td>15.0</td>\n",
       "    </tr>\n",
       "    <tr>\n",
       "      <th>2</th>\n",
       "      <td>8</td>\n",
       "      <td>302.0</td>\n",
       "      <td>0.043046</td>\n",
       "      <td>13.0</td>\n",
       "    </tr>\n",
       "    <tr>\n",
       "      <th>3</th>\n",
       "      <td>9</td>\n",
       "      <td>1336.0</td>\n",
       "      <td>0.085329</td>\n",
       "      <td>114.0</td>\n",
       "    </tr>\n",
       "    <tr>\n",
       "      <th>4</th>\n",
       "      <td>10</td>\n",
       "      <td>315.0</td>\n",
       "      <td>0.104762</td>\n",
       "      <td>33.0</td>\n",
       "    </tr>\n",
       "  </tbody>\n",
       "</table>\n",
       "</div>"
      ],
      "text/plain": [
       "   rbd     8th  he_enrolled_%  he_enrolled\n",
       "0    3   485.0       0.000000          0.0\n",
       "1    5   273.0       0.054945         15.0\n",
       "2    8   302.0       0.043046         13.0\n",
       "3    9  1336.0       0.085329        114.0\n",
       "4   10   315.0       0.104762         33.0"
      ]
     },
     "execution_count": 34,
     "metadata": {},
     "output_type": "execute_result"
    }
   ],
   "source": [
    "exp1.head()"
   ]
  },
  {
   "cell_type": "code",
   "execution_count": 35,
   "metadata": {},
   "outputs": [
    {
     "data": {
      "text/html": [
       "<div>\n",
       "<style scoped>\n",
       "    .dataframe tbody tr th:only-of-type {\n",
       "        vertical-align: middle;\n",
       "    }\n",
       "\n",
       "    .dataframe tbody tr th {\n",
       "        vertical-align: top;\n",
       "    }\n",
       "\n",
       "    .dataframe thead th {\n",
       "        text-align: right;\n",
       "    }\n",
       "</style>\n",
       "<table border=\"1\" class=\"dataframe\">\n",
       "  <thead>\n",
       "    <tr style=\"text-align: right;\">\n",
       "      <th></th>\n",
       "      <th>rbd</th>\n",
       "      <th>8th</th>\n",
       "      <th>he_enrolled_%</th>\n",
       "      <th>he_enrolled</th>\n",
       "    </tr>\n",
       "  </thead>\n",
       "  <tbody>\n",
       "    <tr>\n",
       "      <th>0</th>\n",
       "      <td>3</td>\n",
       "      <td>485.0</td>\n",
       "      <td>0.000000</td>\n",
       "      <td>0.0</td>\n",
       "    </tr>\n",
       "    <tr>\n",
       "      <th>1</th>\n",
       "      <td>5</td>\n",
       "      <td>273.0</td>\n",
       "      <td>0.293040</td>\n",
       "      <td>80.0</td>\n",
       "    </tr>\n",
       "    <tr>\n",
       "      <th>2</th>\n",
       "      <td>8</td>\n",
       "      <td>302.0</td>\n",
       "      <td>0.145695</td>\n",
       "      <td>44.0</td>\n",
       "    </tr>\n",
       "    <tr>\n",
       "      <th>3</th>\n",
       "      <td>9</td>\n",
       "      <td>1336.0</td>\n",
       "      <td>0.184132</td>\n",
       "      <td>246.0</td>\n",
       "    </tr>\n",
       "    <tr>\n",
       "      <th>4</th>\n",
       "      <td>10</td>\n",
       "      <td>315.0</td>\n",
       "      <td>0.196825</td>\n",
       "      <td>62.0</td>\n",
       "    </tr>\n",
       "  </tbody>\n",
       "</table>\n",
       "</div>"
      ],
      "text/plain": [
       "   rbd     8th  he_enrolled_%  he_enrolled\n",
       "0    3   485.0       0.000000          0.0\n",
       "1    5   273.0       0.293040         80.0\n",
       "2    8   302.0       0.145695         44.0\n",
       "3    9  1336.0       0.184132        246.0\n",
       "4   10   315.0       0.196825         62.0"
      ]
     },
     "execution_count": 35,
     "metadata": {},
     "output_type": "execute_result"
    }
   ],
   "source": [
    "exp2.head()"
   ]
  },
  {
   "cell_type": "code",
   "execution_count": null,
   "metadata": {},
   "outputs": [],
   "source": []
  }
 ],
 "metadata": {
  "kernelspec": {
   "display_name": "Python 3",
   "language": "python",
   "name": "python3"
  },
  "language_info": {
   "codemirror_mode": {
    "name": "ipython",
    "version": 3
   },
   "file_extension": ".py",
   "mimetype": "text/x-python",
   "name": "python",
   "nbconvert_exporter": "python",
   "pygments_lexer": "ipython3",
   "version": "3.8.3"
  }
 },
 "nbformat": 4,
 "nbformat_minor": 4
}
